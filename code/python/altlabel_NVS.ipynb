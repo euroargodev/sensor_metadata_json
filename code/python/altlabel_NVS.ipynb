{
 "cells": [
  {
   "cell_type": "code",
   "execution_count": 1,
   "id": "2b190702",
   "metadata": {},
   "outputs": [],
   "source": [
    "import os\n",
    "from typing import Dict, List\n",
    "import requests\n",
    "\n",
    "# Define NVS host\n",
    "\n",
    "VOCAB_HOST = os.environ.get(\"VOCAB_HOST\", \"http://vocab.nerc.ac.uk\")"
   ]
  },
  {
   "cell_type": "code",
   "execution_count": 2,
   "id": "23a0eace",
   "metadata": {},
   "outputs": [],
   "source": [
    "def get_sparql_query(vocab_host: str, vocab_id: str) -> str:\n",
    "    \"\"\"Generates a SPARQL query for retrieving vocab data.\n",
    "\n",
    "    Args:\n",
    "        vocab_host (str): e.g. http://vocab.nerc.ac.uk\n",
    "        vocab_id (str): e.g. P01, L22, etc.\n",
    "\n",
    "    Returns:\n",
    "        str: SPARQL query created based on input params.\n",
    "    \"\"\"\n",
    "    sparql_query = \"\"\"\n",
    "    PREFIX skos: <http://www.w3.org/2004/02/skos/core#>\n",
    "    PREFIX owl: <http://www.w3.org/2002/07/owl#>\n",
    "    SELECT DISTINCT (?c as ?uri) (?pl as ?altLabel)\n",
    "    WHERE {{\n",
    "        <{0}/collection/{1}/current/> skos:member ?c .\n",
    "        ?c skos:altLabel ?pl .\n",
    "        ?c owl:deprecated ?isDeprecated .\n",
    "        FILTER (?isDeprecated = \"false\") .\n",
    "    }}\n",
    "    ORDER BY ?pl\n",
    "    \"\"\"\n",
    "    return sparql_query.format(vocab_host, vocab_id)"
   ]
  },
  {
   "cell_type": "code",
   "execution_count": 3,
   "id": "dce4a38b",
   "metadata": {},
   "outputs": [],
   "source": [
    "def get_vocab_data(vocab_host: str, vocab_id: str) -> List[Dict]:\n",
    "    \"\"\"Retrieves data for a given vocab.\n",
    "\n",
    "    Args:\n",
    "        vocab_host (str): Where to fetch the data from, e.g. http://vocab.nerc.ac.uk\n",
    "        vocab_id (str): Which vocab to fetch, e.g. L22\n",
    "\n",
    "    Returns:\n",
    "        List[Dict]: JSON data containing all terms in the specified vocab.\n",
    "    \"\"\"\n",
    "    query_url = f\"{vocab_host}/sparql/sparql\"\n",
    "    query = get_sparql_query(vocab_host, vocab_id)\n",
    "\n",
    "    resp = requests.post(query_url, data=query, headers={\"Content-Type\": \"application/sparql-query\"}, timeout=60)\n",
    "    results = [\n",
    "        {\"uri\": x[\"uri\"][\"value\"], \"alt_label\": x[\"altLabel\"][\"value\"]} for x in resp.json()[\"results\"][\"bindings\"]\n",
    "    ]\n",
    "    return results"
   ]
  },
  {
   "cell_type": "code",
   "execution_count": 4,
   "id": "9f2640aa",
   "metadata": {},
   "outputs": [
    {
     "name": "stdout",
     "output_type": "stream",
     "text": [
      "[{'uri': 'http://vocab.nerc.ac.uk/collection/R28/current/CB0008/', 'alt_label': 'APMT'}, {'uri': 'http://vocab.nerc.ac.uk/collection/R28/current/CB0003/', 'alt_label': 'GG32'}, {'uri': 'http://vocab.nerc.ac.uk/collection/R28/current/CB0004/', 'alt_label': 'HC12'}, {'uri': 'http://vocab.nerc.ac.uk/collection/R28/current/CB0005/', 'alt_label': 'I535'}, {'uri': 'http://vocab.nerc.ac.uk/collection/R28/current/CB0001/', 'alt_label': 'N1'}, {'uri': 'http://vocab.nerc.ac.uk/collection/R28/current/CB0002/', 'alt_label': 'N2'}, {'uri': 'http://vocab.nerc.ac.uk/collection/R28/current/CB0006/', 'alt_label': 'OSEAN'}, {'uri': 'http://vocab.nerc.ac.uk/collection/R28/current/CB0007/', 'alt_label': 'USEA'}]\n"
     ]
    }
   ],
   "source": [
    "results = get_vocab_data(VOCAB_HOST,'R28')\n",
    "print(results)"
   ]
  },
  {
   "cell_type": "code",
   "execution_count": 6,
   "id": "672a4373",
   "metadata": {},
   "outputs": [
    {
     "name": "stdout",
     "output_type": "stream",
     "text": [
      "['http://vocab.nerc.ac.uk/collection/R28/current/CB0002/']\n"
     ]
    }
   ],
   "source": [
    "alt_label = 'N2'\n",
    "termURIs= [result['uri'] for result in results if result['alt_label']==alt_label]\n",
    "print(termURIs)\n"
   ]
  }
 ],
 "metadata": {
  "kernelspec": {
   "display_name": "Python 3",
   "language": "python",
   "name": "python3"
  },
  "language_info": {
   "codemirror_mode": {
    "name": "ipython",
    "version": 3
   },
   "file_extension": ".py",
   "mimetype": "text/x-python",
   "name": "python",
   "nbconvert_exporter": "python",
   "pygments_lexer": "ipython3",
   "version": "3.10.10"
  }
 },
 "nbformat": 4,
 "nbformat_minor": 5
}
